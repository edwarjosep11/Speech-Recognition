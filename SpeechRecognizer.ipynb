{
 "cells": [
  {
   "cell_type": "code",
   "execution_count": 5,
   "metadata": {},
   "outputs": [],
   "source": [
    "import speech_recognition as sr\n",
    "import pyttsx3\n",
    "import pywhatkit\n",
    "import datetime\n",
    "import wikipedia\n",
    "import pyjokes"
   ]
  },
  {
   "cell_type": "code",
   "execution_count": 6,
   "metadata": {},
   "outputs": [],
   "source": [
    "listener = sr.Recognizer()\n",
    "engine = pyttsx3.init()\n",
    "voices = engine.getProperty('voices')\n",
    "engine.setProperty('voice', voices[1].id)"
   ]
  },
  {
   "cell_type": "code",
   "execution_count": 7,
   "metadata": {},
   "outputs": [],
   "source": [
    "def talk(text):\n",
    "    engine.say(text)\n",
    "    engine.runAndWait()\n",
    "    \n",
    "def take_command():\n",
    "    command = ''\n",
    "    try: \n",
    "        with sr.Microphone as source:\n",
    "            print('Listening ...')\n",
    "            voice = listener.listen(source)\n",
    "            command = listener.recognize_google(voice)\n",
    "            print(command)\n",
    "    except:\n",
    "        pass\n",
    "    return command"
   ]
  },
  {
   "cell_type": "code",
   "execution_count": 8,
   "metadata": {},
   "outputs": [],
   "source": [
    "def run_alexa():\n",
    "    talk('Do you want to turn on Alexa?')\n",
    "    command = take_command()\n",
    "    if 'yes' in command:\n",
    "        talk('Turning on Alexa')\n",
    "        while True:\n",
    "            command = take_command()\n",
    "            if 'turn off' in command:\n",
    "                talk('Turning off Alexa')\n",
    "                break\n",
    "            elif 'play' in command:\n",
    "                song = command.replace('play', '')\n",
    "                talk('playing' + song)\n",
    "                pywhatkit.playonyt(song)\n",
    "            elif 'time' in command:\n",
    "                time = datetime.datetime.now().strftime('%I:%M %p')\n",
    "                talk('Current time is ' + time)\n",
    "            elif 'who is' in command:\n",
    "                person = command.replace('who is', '')\n",
    "                info = wikipedia.summary(person, 1)\n",
    "                talk(info)\n",
    "            elif 'date' in command: \n",
    "                talk('Sorry, I have a headache')\n",
    "            elif 'are you single' in command:\n",
    "                talk('I am in a relationship with the wifi')\n",
    "            elif 'joke' in command: \n",
    "                talk(pyjokes.get_joke())\n",
    "            else: \n",
    "                talk('please say the command again')\n",
    "    else:\n",
    "        talk('Alexa is not turned on')"
   ]
  },
  {
   "cell_type": "code",
   "execution_count": 9,
   "metadata": {},
   "outputs": [],
   "source": [
    "run_alexa()"
   ]
  },
  {
   "cell_type": "code",
   "execution_count": null,
   "metadata": {},
   "outputs": [],
   "source": []
  }
 ],
 "metadata": {
  "kernelspec": {
   "display_name": "Speech",
   "language": "python",
   "name": "python3"
  },
  "language_info": {
   "codemirror_mode": {
    "name": "ipython",
    "version": 3
   },
   "file_extension": ".py",
   "mimetype": "text/x-python",
   "name": "python",
   "nbconvert_exporter": "python",
   "pygments_lexer": "ipython3",
   "version": "3.10.9"
  },
  "orig_nbformat": 4,
  "vscode": {
   "interpreter": {
    "hash": "d6726975616d7657bcb3b2ce7080905750347d18589811e8584163f8378dad12"
   }
  }
 },
 "nbformat": 4,
 "nbformat_minor": 2
}
